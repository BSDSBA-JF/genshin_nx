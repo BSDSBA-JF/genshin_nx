{
 "cells": [
  {
   "cell_type": "code",
   "execution_count": 25,
   "id": "5d09ac7f-5296-42d7-8fe8-98dcfb4d0aae",
   "metadata": {
    "execution": {
     "iopub.execute_input": "2025-10-23T03:16:16.715558Z",
     "iopub.status.busy": "2025-10-23T03:16:16.714840Z",
     "iopub.status.idle": "2025-10-23T03:16:16.725213Z",
     "shell.execute_reply": "2025-10-23T03:16:16.723871Z",
     "shell.execute_reply.started": "2025-10-23T03:16:16.715501Z"
    }
   },
   "outputs": [],
   "source": [
    "import os\n",
    "\n",
    "# webscraping\n",
    "import requests\n",
    "from urllib.parse import quote\n",
    "\n",
    "# data preprocessing\n",
    "from collections import defaultdict\n",
    "from itertools import combinations\n",
    "from tqdm.notebook import tqdm\n",
    "import json\n",
    "import re\n",
    "import pandas as pd\n",
    "\n",
    "# networks\n",
    "import networkx as nx\n",
    "import pickle\n",
    "import matplotlib.pyplot as plt"
   ]
  },
  {
   "cell_type": "markdown",
   "id": "0dacffb2",
   "metadata": {},
   "source": [
    "# Getting the Player Engagement thru Abyss Rank"
   ]
  },
  {
   "cell_type": "code",
   "execution_count": null,
   "id": "a4fb5a71",
   "metadata": {},
   "outputs": [
    {
     "name": "stdout",
     "output_type": "stream",
     "text": [
      "Version 51: Total=123768, Effective=97455\n",
      "Version 50: Total=101909, Effective=77793\n",
      "Version 49: Total=142018, Effective=120354\n",
      "Version 48: Total=122176, Effective=94710\n",
      "Version 47: Total=101501, Effective=82521\n",
      "Version 46: Total=135181, Effective=115539\n",
      "Version 45: Total=122925, Effective=100758\n",
      "Version 44: Total=133046, Effective=115692\n",
      "Version 43: Total=141804, Effective=125490\n",
      "Version 42: Total=145286, Effective=113505\n",
      "Version 41: Total=116634, Effective=90414\n",
      "Version 40: Total=105851, Effective=80802\n",
      "Version 39: Total=110567, Effective=83133\n",
      "Version 38: Total=110747, Effective=84540\n",
      "Version 37: Total=99491, Effective=77727\n",
      "Version 36: Total=60640, Effective=47748\n",
      "Version 35: Total=142578, Effective=112266\n",
      "Version 34: Total=92803, Effective=73653\n",
      "Version 33: Total=174438, Effective=140676\n",
      "Version 32: Total=121888, Effective=99096\n",
      "Version 31: Total=203614, Effective=172554\n",
      "Version 30: Total=189810, Effective=162231\n",
      "Version 29: Total=219054, Effective=197346\n",
      "Version 28: Total=173814, Effective=141312\n",
      "Version 27: Total=195884, Effective=160692\n",
      "Version 26: Total=135569, Effective=111213\n",
      "Version 25: Total=137829, Effective=113160\n",
      "Version 24: Total=127591, Effective=105273\n",
      "Version 23: Total=142847, Effective=118251\n",
      "Version 22: Total=106679, Effective=88530\n",
      "Version 21: Total=109077, Effective=98091\n",
      "Version 20: Total=90042, Effective=81339\n",
      "Version 19: Total=92818, Effective=84534\n",
      "Version 18: Total=69577, Effective=63367\n",
      "Version 17: Total=89688, Effective=81683\n",
      "Version 16: Total=112921, Effective=98192\n",
      "Version 15: Total=98724, Effective=83664\n",
      "Version 14: Total=156928, Effective=127584\n",
      "Version 13: Total=141172, Effective=117643\n",
      "Version 12: Total=150784, Effective=120627\n",
      "Version 11: Total=147263, Effective=119726\n",
      "Version 10: Total=111641, Effective=92265\n",
      "Version 9: Total=79539, Effective=69044\n",
      "Version 8: Total=82987, Effective=72037\n",
      "Version 7: Total=83972, Effective=72892\n",
      "Version 6: Total=56830, Effective=49851\n",
      "Version 5: Total=67901, Effective=59562\n",
      "Version 4: Total=60896, Effective=49509\n",
      "Version 3: Total=63368, Effective=51519\n",
      "Version 2: Total=43966, Effective=35745\n",
      "Version 1: Total=46302, Effective=37644\n"
     ]
    }
   ],
   "source": [
    "data_list = []\n",
    "\n",
    "for version in range(51, 1 - 1, -1):  # from 51 down to 1\n",
    "    url = f'https://api.yshelper.com/ys/getAbyssRank.php?star=all&role=all&lang=en&version={version}'\n",
    "    response = requests.get(url).json()\n",
    "    version_name = response['version']\n",
    "    tips = response['tips']\n",
    "\n",
    "    # Extract Total and Effective samples\n",
    "    total_match = re.search(r'Total\\s*(\\d+)', tips)\n",
    "    effective_match = re.search(r'effective\\s*(\\d+)', tips, re.IGNORECASE)\n",
    "\n",
    "    total_samples = total_match.group(1) if total_match else None\n",
    "    effective_samples = effective_match.group(1) if effective_match else None\n",
    "\n",
    "    print(f\"Version {version}: Total={total_samples}, Effective={effective_samples}\")\n",
    "\n",
    "    data_list.append({\n",
    "        'Version': version,\n",
    "        'Version Name': version_name,\n",
    "        'Total Samples': total_samples,\n",
    "        'Effective Samples': effective_samples\n",
    "    })\n",
    "    \n",
    "df = pd.DataFrame(data_list)\n"
   ]
  },
  {
   "cell_type": "code",
   "execution_count": 48,
   "id": "692ce4c8",
   "metadata": {},
   "outputs": [],
   "source": [
    "samples = ['Total Samples', 'Effective Samples']\n",
    "for sample_columns in samples:\n",
    "    df[sample_columns] = pd.to_numeric(df[sample_columns])\n",
    "\n",
    "df['Patch'] = df['Version Name'].str[9:12]\n",
    "df.to_csv('abyss_rank_activity.csv', index=False)"
   ]
  },
  {
   "cell_type": "code",
   "execution_count": 49,
   "id": "2ed3c47b",
   "metadata": {},
   "outputs": [
    {
     "data": {
      "text/html": [
       "<div>\n",
       "<style scoped>\n",
       "    .dataframe tbody tr th:only-of-type {\n",
       "        vertical-align: middle;\n",
       "    }\n",
       "\n",
       "    .dataframe tbody tr th {\n",
       "        vertical-align: top;\n",
       "    }\n",
       "\n",
       "    .dataframe thead th {\n",
       "        text-align: right;\n",
       "    }\n",
       "</style>\n",
       "<table border=\"1\" class=\"dataframe\">\n",
       "  <thead>\n",
       "    <tr style=\"text-align: right;\">\n",
       "      <th></th>\n",
       "      <th>Version</th>\n",
       "      <th>Version Name</th>\n",
       "      <th>Total Samples</th>\n",
       "      <th>Effective Samples</th>\n",
       "      <th>Patch</th>\n",
       "    </tr>\n",
       "  </thead>\n",
       "  <tbody>\n",
       "    <tr>\n",
       "      <th>0</th>\n",
       "      <td>51</td>\n",
       "      <td>Version: 6.0(Phase II)</td>\n",
       "      <td>123768</td>\n",
       "      <td>97455</td>\n",
       "      <td>6.0</td>\n",
       "    </tr>\n",
       "    <tr>\n",
       "      <th>1</th>\n",
       "      <td>50</td>\n",
       "      <td>Version: 6.0(Phase I)</td>\n",
       "      <td>101909</td>\n",
       "      <td>77793</td>\n",
       "      <td>6.0</td>\n",
       "    </tr>\n",
       "    <tr>\n",
       "      <th>2</th>\n",
       "      <td>49</td>\n",
       "      <td>Version: 5.8(Phase I)</td>\n",
       "      <td>142018</td>\n",
       "      <td>120354</td>\n",
       "      <td>5.8</td>\n",
       "    </tr>\n",
       "    <tr>\n",
       "      <th>3</th>\n",
       "      <td>48</td>\n",
       "      <td>Version: 5.7(Phase I)</td>\n",
       "      <td>122176</td>\n",
       "      <td>94710</td>\n",
       "      <td>5.7</td>\n",
       "    </tr>\n",
       "    <tr>\n",
       "      <th>4</th>\n",
       "      <td>47</td>\n",
       "      <td>Version: 5.6(Phase II)</td>\n",
       "      <td>101501</td>\n",
       "      <td>82521</td>\n",
       "      <td>5.6</td>\n",
       "    </tr>\n",
       "    <tr>\n",
       "      <th>5</th>\n",
       "      <td>46</td>\n",
       "      <td>Version: 5.6(Phase I)</td>\n",
       "      <td>135181</td>\n",
       "      <td>115539</td>\n",
       "      <td>5.6</td>\n",
       "    </tr>\n",
       "    <tr>\n",
       "      <th>6</th>\n",
       "      <td>45</td>\n",
       "      <td>Version: 5.5(Phase I)</td>\n",
       "      <td>122925</td>\n",
       "      <td>100758</td>\n",
       "      <td>5.5</td>\n",
       "    </tr>\n",
       "    <tr>\n",
       "      <th>7</th>\n",
       "      <td>44</td>\n",
       "      <td>Version: 5.4(Phase II)</td>\n",
       "      <td>133046</td>\n",
       "      <td>115692</td>\n",
       "      <td>5.4</td>\n",
       "    </tr>\n",
       "    <tr>\n",
       "      <th>8</th>\n",
       "      <td>43</td>\n",
       "      <td>Version: 5.4(Phase I)</td>\n",
       "      <td>141804</td>\n",
       "      <td>125490</td>\n",
       "      <td>5.4</td>\n",
       "    </tr>\n",
       "    <tr>\n",
       "      <th>9</th>\n",
       "      <td>42</td>\n",
       "      <td>Version: 5.3(Phase I)</td>\n",
       "      <td>145286</td>\n",
       "      <td>113505</td>\n",
       "      <td>5.3</td>\n",
       "    </tr>\n",
       "    <tr>\n",
       "      <th>10</th>\n",
       "      <td>41</td>\n",
       "      <td>Version: 5.2(Phase I)</td>\n",
       "      <td>116634</td>\n",
       "      <td>90414</td>\n",
       "      <td>5.2</td>\n",
       "    </tr>\n",
       "    <tr>\n",
       "      <th>11</th>\n",
       "      <td>40</td>\n",
       "      <td>Version: 5.1(Phase II)</td>\n",
       "      <td>105851</td>\n",
       "      <td>80802</td>\n",
       "      <td>5.1</td>\n",
       "    </tr>\n",
       "    <tr>\n",
       "      <th>12</th>\n",
       "      <td>39</td>\n",
       "      <td>Version: 5.1(Phase I)</td>\n",
       "      <td>110567</td>\n",
       "      <td>83133</td>\n",
       "      <td>5.1</td>\n",
       "    </tr>\n",
       "    <tr>\n",
       "      <th>13</th>\n",
       "      <td>38</td>\n",
       "      <td>Version: 5.0(Phase I)</td>\n",
       "      <td>110747</td>\n",
       "      <td>84540</td>\n",
       "      <td>5.0</td>\n",
       "    </tr>\n",
       "    <tr>\n",
       "      <th>14</th>\n",
       "      <td>37</td>\n",
       "      <td>Version: 4.8(Phase I)</td>\n",
       "      <td>99491</td>\n",
       "      <td>77727</td>\n",
       "      <td>4.8</td>\n",
       "    </tr>\n",
       "    <tr>\n",
       "      <th>15</th>\n",
       "      <td>36</td>\n",
       "      <td>Version: 4.7(Phase II)</td>\n",
       "      <td>60640</td>\n",
       "      <td>47748</td>\n",
       "      <td>4.7</td>\n",
       "    </tr>\n",
       "    <tr>\n",
       "      <th>16</th>\n",
       "      <td>35</td>\n",
       "      <td>Version: 4.7(Phase I)</td>\n",
       "      <td>142578</td>\n",
       "      <td>112266</td>\n",
       "      <td>4.7</td>\n",
       "    </tr>\n",
       "    <tr>\n",
       "      <th>17</th>\n",
       "      <td>34</td>\n",
       "      <td>Version: 4.6(Phase II)</td>\n",
       "      <td>92803</td>\n",
       "      <td>73653</td>\n",
       "      <td>4.6</td>\n",
       "    </tr>\n",
       "    <tr>\n",
       "      <th>18</th>\n",
       "      <td>33</td>\n",
       "      <td>Version: 4.6(Phase I)</td>\n",
       "      <td>174438</td>\n",
       "      <td>140676</td>\n",
       "      <td>4.6</td>\n",
       "    </tr>\n",
       "    <tr>\n",
       "      <th>19</th>\n",
       "      <td>32</td>\n",
       "      <td>Version: 4.5(Phase II)</td>\n",
       "      <td>121888</td>\n",
       "      <td>99096</td>\n",
       "      <td>4.5</td>\n",
       "    </tr>\n",
       "    <tr>\n",
       "      <th>20</th>\n",
       "      <td>31</td>\n",
       "      <td>Version: 4.5(Phase I)</td>\n",
       "      <td>203614</td>\n",
       "      <td>172554</td>\n",
       "      <td>4.5</td>\n",
       "    </tr>\n",
       "    <tr>\n",
       "      <th>21</th>\n",
       "      <td>30</td>\n",
       "      <td>Version: 4.4(Phase II)</td>\n",
       "      <td>189810</td>\n",
       "      <td>162231</td>\n",
       "      <td>4.4</td>\n",
       "    </tr>\n",
       "    <tr>\n",
       "      <th>22</th>\n",
       "      <td>29</td>\n",
       "      <td>Version: 4.4(Phase I)</td>\n",
       "      <td>219054</td>\n",
       "      <td>197346</td>\n",
       "      <td>4.4</td>\n",
       "    </tr>\n",
       "    <tr>\n",
       "      <th>23</th>\n",
       "      <td>28</td>\n",
       "      <td>Version: 4.3(Phase II)</td>\n",
       "      <td>173814</td>\n",
       "      <td>141312</td>\n",
       "      <td>4.3</td>\n",
       "    </tr>\n",
       "    <tr>\n",
       "      <th>24</th>\n",
       "      <td>27</td>\n",
       "      <td>Version: 4.3(Phase I)</td>\n",
       "      <td>195884</td>\n",
       "      <td>160692</td>\n",
       "      <td>4.3</td>\n",
       "    </tr>\n",
       "    <tr>\n",
       "      <th>25</th>\n",
       "      <td>26</td>\n",
       "      <td>Version: 4.2(Phase II)</td>\n",
       "      <td>135569</td>\n",
       "      <td>111213</td>\n",
       "      <td>4.2</td>\n",
       "    </tr>\n",
       "    <tr>\n",
       "      <th>26</th>\n",
       "      <td>25</td>\n",
       "      <td>Version: 4.2(Phase I)</td>\n",
       "      <td>137829</td>\n",
       "      <td>113160</td>\n",
       "      <td>4.2</td>\n",
       "    </tr>\n",
       "    <tr>\n",
       "      <th>27</th>\n",
       "      <td>24</td>\n",
       "      <td>Version: 4.1(Phase II)</td>\n",
       "      <td>127591</td>\n",
       "      <td>105273</td>\n",
       "      <td>4.1</td>\n",
       "    </tr>\n",
       "    <tr>\n",
       "      <th>28</th>\n",
       "      <td>23</td>\n",
       "      <td>Version: 4.1(Phase I)</td>\n",
       "      <td>142847</td>\n",
       "      <td>118251</td>\n",
       "      <td>4.1</td>\n",
       "    </tr>\n",
       "    <tr>\n",
       "      <th>29</th>\n",
       "      <td>22</td>\n",
       "      <td>Version: 4.0(Phase II)</td>\n",
       "      <td>106679</td>\n",
       "      <td>88530</td>\n",
       "      <td>4.0</td>\n",
       "    </tr>\n",
       "    <tr>\n",
       "      <th>30</th>\n",
       "      <td>21</td>\n",
       "      <td>Version: 4.0(Phase I)</td>\n",
       "      <td>109077</td>\n",
       "      <td>98091</td>\n",
       "      <td>4.0</td>\n",
       "    </tr>\n",
       "    <tr>\n",
       "      <th>31</th>\n",
       "      <td>20</td>\n",
       "      <td>Version: 3.8(Phase II)</td>\n",
       "      <td>90042</td>\n",
       "      <td>81339</td>\n",
       "      <td>3.8</td>\n",
       "    </tr>\n",
       "    <tr>\n",
       "      <th>32</th>\n",
       "      <td>19</td>\n",
       "      <td>Version: 3.8(Phase I)</td>\n",
       "      <td>92818</td>\n",
       "      <td>84534</td>\n",
       "      <td>3.8</td>\n",
       "    </tr>\n",
       "    <tr>\n",
       "      <th>33</th>\n",
       "      <td>18</td>\n",
       "      <td>Version: 3.7(Phase III)</td>\n",
       "      <td>69577</td>\n",
       "      <td>63367</td>\n",
       "      <td>3.7</td>\n",
       "    </tr>\n",
       "    <tr>\n",
       "      <th>34</th>\n",
       "      <td>17</td>\n",
       "      <td>Version: 3.7(Phase II)</td>\n",
       "      <td>89688</td>\n",
       "      <td>81683</td>\n",
       "      <td>3.7</td>\n",
       "    </tr>\n",
       "    <tr>\n",
       "      <th>35</th>\n",
       "      <td>16</td>\n",
       "      <td>Version: 3.7(Phase I)</td>\n",
       "      <td>112921</td>\n",
       "      <td>98192</td>\n",
       "      <td>3.7</td>\n",
       "    </tr>\n",
       "    <tr>\n",
       "      <th>36</th>\n",
       "      <td>15</td>\n",
       "      <td>Version: 3.6(Phase III)</td>\n",
       "      <td>98724</td>\n",
       "      <td>83664</td>\n",
       "      <td>3.6</td>\n",
       "    </tr>\n",
       "    <tr>\n",
       "      <th>37</th>\n",
       "      <td>14</td>\n",
       "      <td>Version: 3.6(Phase I)</td>\n",
       "      <td>156928</td>\n",
       "      <td>127584</td>\n",
       "      <td>3.6</td>\n",
       "    </tr>\n",
       "    <tr>\n",
       "      <th>38</th>\n",
       "      <td>13</td>\n",
       "      <td>Version: 3.5(Phase II)</td>\n",
       "      <td>141172</td>\n",
       "      <td>117643</td>\n",
       "      <td>3.5</td>\n",
       "    </tr>\n",
       "    <tr>\n",
       "      <th>39</th>\n",
       "      <td>12</td>\n",
       "      <td>Version: 3.5(Phase I)</td>\n",
       "      <td>150784</td>\n",
       "      <td>120627</td>\n",
       "      <td>3.5</td>\n",
       "    </tr>\n",
       "    <tr>\n",
       "      <th>40</th>\n",
       "      <td>11</td>\n",
       "      <td>Version: 3.4(Phase III)</td>\n",
       "      <td>147263</td>\n",
       "      <td>119726</td>\n",
       "      <td>3.4</td>\n",
       "    </tr>\n",
       "    <tr>\n",
       "      <th>41</th>\n",
       "      <td>10</td>\n",
       "      <td>Version: 3.4(Phase II)</td>\n",
       "      <td>111641</td>\n",
       "      <td>92265</td>\n",
       "      <td>3.4</td>\n",
       "    </tr>\n",
       "    <tr>\n",
       "      <th>42</th>\n",
       "      <td>9</td>\n",
       "      <td>Version: 3.4(Phase I)</td>\n",
       "      <td>79539</td>\n",
       "      <td>69044</td>\n",
       "      <td>3.4</td>\n",
       "    </tr>\n",
       "    <tr>\n",
       "      <th>43</th>\n",
       "      <td>8</td>\n",
       "      <td>Version: 3.3(Phase II)</td>\n",
       "      <td>82987</td>\n",
       "      <td>72037</td>\n",
       "      <td>3.3</td>\n",
       "    </tr>\n",
       "    <tr>\n",
       "      <th>44</th>\n",
       "      <td>7</td>\n",
       "      <td>Version: 3.3(Phase I)</td>\n",
       "      <td>83972</td>\n",
       "      <td>72892</td>\n",
       "      <td>3.3</td>\n",
       "    </tr>\n",
       "    <tr>\n",
       "      <th>45</th>\n",
       "      <td>6</td>\n",
       "      <td>Version: 3.2(Phase III)</td>\n",
       "      <td>56830</td>\n",
       "      <td>49851</td>\n",
       "      <td>3.2</td>\n",
       "    </tr>\n",
       "    <tr>\n",
       "      <th>46</th>\n",
       "      <td>5</td>\n",
       "      <td>Version: 3.2(Phase II)</td>\n",
       "      <td>67901</td>\n",
       "      <td>59562</td>\n",
       "      <td>3.2</td>\n",
       "    </tr>\n",
       "    <tr>\n",
       "      <th>47</th>\n",
       "      <td>4</td>\n",
       "      <td>Version: 3.2(Phase I)</td>\n",
       "      <td>60896</td>\n",
       "      <td>49509</td>\n",
       "      <td>3.2</td>\n",
       "    </tr>\n",
       "    <tr>\n",
       "      <th>48</th>\n",
       "      <td>3</td>\n",
       "      <td>Version: 3.1(Phase II)</td>\n",
       "      <td>63368</td>\n",
       "      <td>51519</td>\n",
       "      <td>3.1</td>\n",
       "    </tr>\n",
       "    <tr>\n",
       "      <th>49</th>\n",
       "      <td>2</td>\n",
       "      <td>Version: 3.1(Phase I)</td>\n",
       "      <td>43966</td>\n",
       "      <td>35745</td>\n",
       "      <td>3.1</td>\n",
       "    </tr>\n",
       "    <tr>\n",
       "      <th>50</th>\n",
       "      <td>1</td>\n",
       "      <td>Version: 3.0(Phase II)</td>\n",
       "      <td>46302</td>\n",
       "      <td>37644</td>\n",
       "      <td>3.0</td>\n",
       "    </tr>\n",
       "  </tbody>\n",
       "</table>\n",
       "</div>"
      ],
      "text/plain": [
       "    Version             Version Name  Total Samples  Effective Samples Patch\n",
       "0        51   Version: 6.0(Phase II)         123768              97455   6.0\n",
       "1        50    Version: 6.0(Phase I)         101909              77793   6.0\n",
       "2        49    Version: 5.8(Phase I)         142018             120354   5.8\n",
       "3        48    Version: 5.7(Phase I)         122176              94710   5.7\n",
       "4        47   Version: 5.6(Phase II)         101501              82521   5.6\n",
       "5        46    Version: 5.6(Phase I)         135181             115539   5.6\n",
       "6        45    Version: 5.5(Phase I)         122925             100758   5.5\n",
       "7        44   Version: 5.4(Phase II)         133046             115692   5.4\n",
       "8        43    Version: 5.4(Phase I)         141804             125490   5.4\n",
       "9        42    Version: 5.3(Phase I)         145286             113505   5.3\n",
       "10       41    Version: 5.2(Phase I)         116634              90414   5.2\n",
       "11       40   Version: 5.1(Phase II)         105851              80802   5.1\n",
       "12       39    Version: 5.1(Phase I)         110567              83133   5.1\n",
       "13       38    Version: 5.0(Phase I)         110747              84540   5.0\n",
       "14       37    Version: 4.8(Phase I)          99491              77727   4.8\n",
       "15       36   Version: 4.7(Phase II)          60640              47748   4.7\n",
       "16       35    Version: 4.7(Phase I)         142578             112266   4.7\n",
       "17       34   Version: 4.6(Phase II)          92803              73653   4.6\n",
       "18       33    Version: 4.6(Phase I)         174438             140676   4.6\n",
       "19       32   Version: 4.5(Phase II)         121888              99096   4.5\n",
       "20       31    Version: 4.5(Phase I)         203614             172554   4.5\n",
       "21       30   Version: 4.4(Phase II)         189810             162231   4.4\n",
       "22       29    Version: 4.4(Phase I)         219054             197346   4.4\n",
       "23       28   Version: 4.3(Phase II)         173814             141312   4.3\n",
       "24       27    Version: 4.3(Phase I)         195884             160692   4.3\n",
       "25       26   Version: 4.2(Phase II)         135569             111213   4.2\n",
       "26       25    Version: 4.2(Phase I)         137829             113160   4.2\n",
       "27       24   Version: 4.1(Phase II)         127591             105273   4.1\n",
       "28       23    Version: 4.1(Phase I)         142847             118251   4.1\n",
       "29       22   Version: 4.0(Phase II)         106679              88530   4.0\n",
       "30       21    Version: 4.0(Phase I)         109077              98091   4.0\n",
       "31       20   Version: 3.8(Phase II)          90042              81339   3.8\n",
       "32       19    Version: 3.8(Phase I)          92818              84534   3.8\n",
       "33       18  Version: 3.7(Phase III)          69577              63367   3.7\n",
       "34       17   Version: 3.7(Phase II)          89688              81683   3.7\n",
       "35       16    Version: 3.7(Phase I)         112921              98192   3.7\n",
       "36       15  Version: 3.6(Phase III)          98724              83664   3.6\n",
       "37       14    Version: 3.6(Phase I)         156928             127584   3.6\n",
       "38       13   Version: 3.5(Phase II)         141172             117643   3.5\n",
       "39       12    Version: 3.5(Phase I)         150784             120627   3.5\n",
       "40       11  Version: 3.4(Phase III)         147263             119726   3.4\n",
       "41       10   Version: 3.4(Phase II)         111641              92265   3.4\n",
       "42        9    Version: 3.4(Phase I)          79539              69044   3.4\n",
       "43        8   Version: 3.3(Phase II)          82987              72037   3.3\n",
       "44        7    Version: 3.3(Phase I)          83972              72892   3.3\n",
       "45        6  Version: 3.2(Phase III)          56830              49851   3.2\n",
       "46        5   Version: 3.2(Phase II)          67901              59562   3.2\n",
       "47        4    Version: 3.2(Phase I)          60896              49509   3.2\n",
       "48        3   Version: 3.1(Phase II)          63368              51519   3.1\n",
       "49        2    Version: 3.1(Phase I)          43966              35745   3.1\n",
       "50        1   Version: 3.0(Phase II)          46302              37644   3.0"
      ]
     },
     "execution_count": 49,
     "metadata": {},
     "output_type": "execute_result"
    }
   ],
   "source": [
    "df"
   ]
  },
  {
   "cell_type": "code",
   "execution_count": 45,
   "id": "fbf0ff5d",
   "metadata": {},
   "outputs": [
    {
     "data": {
      "image/png": "[encoded data removed]",
      "text/plain": [
       "<Figure size 640x480 with 1 Axes>"
      ]
     },
     "metadata": {},
     "output_type": "display_data"
    }
   ],
   "source": [
    "plt.plot(df['Version'], df['Effective Samples'])\n",
    "plt.xlabel('Version Number')\n",
    "plt.ylabel('Number of Effective Samples')\n",
    "plt.show()"
   ]
  },
  {
   "cell_type": "markdown",
   "id": "f8e68f07",
   "metadata": {},
   "source": [
    "# Getting the Graphs"
   ]
  },
  {
   "cell_type": "code",
   "execution_count": 5,
   "id": "47cd4938-4a2a-4457-8fd5-17ee7d529d6e",
   "metadata": {
    "execution": {
     "iopub.execute_input": "2025-10-23T03:16:17.057950Z",
     "iopub.status.busy": "2025-10-23T03:16:17.056510Z",
     "iopub.status.idle": "2025-10-23T03:16:17.075561Z",
     "shell.execute_reply": "2025-10-23T03:16:17.073944Z",
     "shell.execute_reply.started": "2025-10-23T03:16:17.057891Z"
    }
   },
   "outputs": [],
   "source": [
    "with open(\"list_of_names.txt\", \"r\") as file:\n",
    "    content = file.read()\n",
    "    data = json.loads(content)"
   ]
  },
  {
   "cell_type": "code",
   "execution_count": 4,
   "id": "6205e59e-ffc6-4c4d-8d27-ff1abdd2df15",
   "metadata": {
    "execution": {
     "iopub.execute_input": "2025-10-23T03:16:17.243540Z",
     "iopub.status.busy": "2025-10-23T03:16:17.242607Z",
     "iopub.status.idle": "2025-10-23T03:16:17.256670Z",
     "shell.execute_reply": "2025-10-23T03:16:17.255265Z",
     "shell.execute_reply.started": "2025-10-23T03:16:17.243457Z"
    }
   },
   "outputs": [],
   "source": [
    "def create_mapping():\n",
    "    \"\"\"Creates a mapping from avatar image URLs to English character names.\"\"\"\n",
    "    image_english_mapping = {}\n",
    "\n",
    "    for char_info in data['has_list']:\n",
    "        name = char_info['name']\n",
    "        image_link = char_info['avatar']\n",
    "\n",
    "        # Match Chinese name with English equivalent\n",
    "        cn_to_ens = data['select_list']\n",
    "        for cn_to_en in cn_to_ens:\n",
    "            cn = cn_to_en['title'][:-2]\n",
    "            if cn == name:\n",
    "                en = cn_to_en['value']\n",
    "                image_english_mapping[image_link] = en\n",
    "                break  # Stop once matched\n",
    "\n",
    "    # Add default mapping for Traveler\n",
    "    image_english_mapping.update({\n",
    "        ('https://upload-bbs.mihoyo.com/game_record/genshin/character_icon/'\n",
    "         'UI_AvatarIcon_PlayerGirl.png'): 'Traveler'\n",
    "    })\n",
    "\n",
    "    return image_english_mapping\n",
    "\n",
    "image_english_mapping = create_mapping()"
   ]
  },
  {
   "cell_type": "code",
   "execution_count": 6,
   "id": "0d19b723-13be-41d1-8e5e-3c6365cc6364",
   "metadata": {
    "execution": {
     "iopub.execute_input": "2025-10-23T03:16:17.439985Z",
     "iopub.status.busy": "2025-10-23T03:16:17.438658Z",
     "iopub.status.idle": "2025-10-23T03:16:18.293244Z",
     "shell.execute_reply": "2025-10-23T03:16:18.292087Z",
     "shell.execute_reply.started": "2025-10-23T03:16:17.439924Z"
    }
   },
   "outputs": [],
   "source": [
    "# helper function\n",
    "def get_character_names():\n",
    "    \"\"\"Get the character names\"\"\"\n",
    "    url = 'https://api.yshelper.com/ys/getAbyssRank.php'\n",
    "    data = requests.get(url).json()\n",
    "    \n",
    "    char_names = []\n",
    "    for char_json in data['select_list'][1:]:\n",
    "        char_names.append(char_json['value'])\n",
    "\n",
    "    return char_names\n",
    "\n",
    "char_names = get_character_names()"
   ]
  },
  {
   "cell_type": "code",
   "execution_count": 7,
   "id": "6de5b100-f2e5-4117-88a6-70b95c27f5df",
   "metadata": {
    "execution": {
     "iopub.execute_input": "2025-10-23T03:16:18.295467Z",
     "iopub.status.busy": "2025-10-23T03:16:18.295051Z",
     "iopub.status.idle": "2025-10-23T03:16:18.302858Z",
     "shell.execute_reply": "2025-10-23T03:16:18.301669Z",
     "shell.execute_reply.started": "2025-10-23T03:16:18.295432Z"
    }
   },
   "outputs": [],
   "source": [
    "# helper function\n",
    "def get_team_usage_per_char(char_name, version):\n",
    "    \"\"\"\n",
    "    Given the character name and version, return the top 100 or fewer \n",
    "    teams that include the character (from result[3]).\n",
    "    \"\"\"\n",
    "    base_url = \"https://api.yshelper.com/ys/getAbyssRank.php\"\n",
    "    url = (\n",
    "        f\"{base_url}?star=all&role={quote(char_name)}\"\n",
    "        f\"&lang=en&version={version}\"\n",
    "    )\n",
    "\n",
    "    team_data = requests.get(url).json()['result'][3]\n",
    "\n",
    "    return team_data if team_data else None"
   ]
  },
  {
   "cell_type": "code",
   "execution_count": 8,
   "id": "e557b6eb-6f91-419c-a8d2-a22bce0ebf99",
   "metadata": {
    "execution": {
     "iopub.execute_input": "2025-10-23T03:16:18.304058Z",
     "iopub.status.busy": "2025-10-23T03:16:18.303743Z",
     "iopub.status.idle": "2025-10-23T03:16:18.310521Z",
     "shell.execute_reply": "2025-10-23T03:16:18.309110Z",
     "shell.execute_reply.started": "2025-10-23T03:16:18.304030Z"
    }
   },
   "outputs": [],
   "source": [
    "# important function\n",
    "def get_team_per_version(version, char_names):\n",
    "    \"\"\"Given the version, get all the possible teams in a list \n",
    "    with each elemenet as a json str\"\"\"\n",
    "    possible_teams = set()\n",
    "    \n",
    "    # loop over all the characters\n",
    "    for char in tqdm(char_names, desc=\"Fetching team usage\"):\n",
    "        # get the teams\n",
    "        char_team_usage =  get_team_usage_per_char(char, version)\n",
    "        \n",
    "        # if there are no teams, then skip this character\n",
    "        if not char_team_usage:\n",
    "            continue\n",
    "            \n",
    "        # add to a set all the possible teams\n",
    "        for team in char_team_usage:\n",
    "            possible_teams.add(json.dumps(team, sort_keys=True))\n",
    "    return list(possible_teams)"
   ]
  },
  {
   "cell_type": "code",
   "execution_count": 9,
   "id": "15298281-f829-4e71-828d-76b9ab812fc8",
   "metadata": {
    "execution": {
     "iopub.execute_input": "2025-10-23T03:16:19.541251Z",
     "iopub.status.busy": "2025-10-23T03:16:19.540533Z",
     "iopub.status.idle": "2025-10-23T03:16:19.553299Z",
     "shell.execute_reply": "2025-10-23T03:16:19.551781Z",
     "shell.execute_reply.started": "2025-10-23T03:16:19.541171Z"
    }
   },
   "outputs": [],
   "source": [
    "# important function\n",
    "def get_occur_version(teams, image_english_mapping):\n",
    "    co_occur = defaultdict(float)\n",
    "    for team in tqdm(teams, desc=\"Getting the normalized co-occurence rate\"):\n",
    "        # get the names\n",
    "        team = json.loads(team)\n",
    "        char_names = []\n",
    "        for character_dict in team['role']:\n",
    "            character = character_dict['avatar']\n",
    "            char_name = image_english_mapping[character]\n",
    "            if char_name:  # Only add if mapping is successful\n",
    "                char_names.append(char_name)\n",
    "    \n",
    "        # get each character combination\n",
    "        for char1, char2 in combinations(sorted(char_names), 2):\n",
    "            co_occur[(char1, char2)] += team['attend_rate']\n",
    "            \n",
    "    return co_occur"
   ]
  },
  {
   "cell_type": "code",
   "execution_count": 10,
   "id": "fdf340fb-83e6-4792-95f4-c85f6ed36453",
   "metadata": {
    "execution": {
     "iopub.execute_input": "2025-10-23T03:16:20.343672Z",
     "iopub.status.busy": "2025-10-23T03:16:20.342157Z",
     "iopub.status.idle": "2025-10-23T03:16:20.353712Z",
     "shell.execute_reply": "2025-10-23T03:16:20.352079Z",
     "shell.execute_reply.started": "2025-10-23T03:16:20.343606Z"
    }
   },
   "outputs": [],
   "source": [
    "# important function\n",
    "def get_graph(co_occur):\n",
    "    sorted_list = sorted(co_occur.items(), key=lambda x: x[1], reverse=True)\n",
    "    filtered_list = [item for item in sorted_list if item[1] >= 1]\n",
    "    \n",
    "    co_occur_graph = nx.Graph()\n",
    "    for char_comb, weight in filtered_list:\n",
    "        char1, char2 = char_comb[0], char_comb[1]\n",
    "        co_occur_graph.add_edge(char1, char2, weight=co_occur[(char1, char2)])\n",
    "\n",
    "    return co_occur_graph"
   ]
  },
  {
   "cell_type": "code",
   "execution_count": 11,
   "id": "83c649b8-ec9c-44f6-a795-67623f287d62",
   "metadata": {
    "execution": {
     "iopub.execute_input": "2025-10-23T03:16:21.317921Z",
     "iopub.status.busy": "2025-10-23T03:16:21.317216Z",
     "iopub.status.idle": "2025-10-23T03:16:21.326437Z",
     "shell.execute_reply": "2025-10-23T03:16:21.324788Z",
     "shell.execute_reply.started": "2025-10-23T03:16:21.317864Z"
    }
   },
   "outputs": [],
   "source": [
    "# main function\n",
    "def create_graph(version, char_names=char_names, image_english_mapping=image_english_mapping):\n",
    "    possible_teams = get_team_per_version(version, char_names)\n",
    "    co_occur = get_occur_version(possible_teams, image_english_mapping)\n",
    "    return get_graph(co_occur)"
   ]
  },
  {
   "cell_type": "code",
   "execution_count": 12,
   "id": "595b3e40-b811-437f-8264-2396b9166e8b",
   "metadata": {
    "execution": {
     "iopub.execute_input": "2025-10-23T03:16:23.730973Z",
     "iopub.status.busy": "2025-10-23T03:16:23.730251Z",
     "iopub.status.idle": "2025-10-23T03:29:36.970869Z",
     "shell.execute_reply": "2025-10-23T03:29:36.968709Z",
     "shell.execute_reply.started": "2025-10-23T03:16:23.730913Z"
    },
    "scrolled": true
   },
   "outputs": [
    {
     "data": {
      "application/vnd.jupyter.widget-view+json": {
       "model_id": "d3052bcb765c4fb6a74e8113da025f9c",
       "version_major": 2,
       "version_minor": 0
      },
      "text/plain": [
       "Fetching team usage:   0%|          | 0/105 [00:00<?, ?it/s]"
      ]
     },
     "metadata": {},
     "output_type": "display_data"
    },
    {
     "data": {
      "application/vnd.jupyter.widget-view+json": {
       "model_id": "db1fe056e7894c8eb3a3885d8c7f1f89",
       "version_major": 2,
       "version_minor": 0
      },
      "text/plain": [
       "Getting the normalized co-occurence rate:   0%|          | 0/2993 [00:00<?, ?it/s]"
      ]
     },
     "metadata": {},
     "output_type": "display_data"
    },
    {
     "name": "stdout",
     "output_type": "stream",
     "text": [
      "Saved graphs/graph_7.pickle\n"
     ]
    },
    {
     "data": {
      "application/vnd.jupyter.widget-view+json": {
       "model_id": "098d0867b2b849bc9dd23d7692313a70",
       "version_major": 2,
       "version_minor": 0
      },
      "text/plain": [
       "Fetching team usage:   0%|          | 0/105 [00:00<?, ?it/s]"
      ]
     },
     "metadata": {},
     "output_type": "display_data"
    },
    {
     "data": {
      "application/vnd.jupyter.widget-view+json": {
       "model_id": "512bc8cc923d441fbf6785daee842285",
       "version_major": 2,
       "version_minor": 0
      },
      "text/plain": [
       "Getting the normalized co-occurence rate:   0%|          | 0/2601 [00:00<?, ?it/s]"
      ]
     },
     "metadata": {},
     "output_type": "display_data"
    },
    {
     "name": "stdout",
     "output_type": "stream",
     "text": [
      "Saved graphs/graph_6.pickle\n"
     ]
    },
    {
     "data": {
      "application/vnd.jupyter.widget-view+json": {
       "model_id": "c05edc37228748859103de3fc176e6d2",
       "version_major": 2,
       "version_minor": 0
      },
      "text/plain": [
       "Fetching team usage:   0%|          | 0/105 [00:00<?, ?it/s]"
      ]
     },
     "metadata": {},
     "output_type": "display_data"
    },
    {
     "data": {
      "application/vnd.jupyter.widget-view+json": {
       "model_id": "f992daaa7e6e426ebf8d8a144159c116",
       "version_major": 2,
       "version_minor": 0
      },
      "text/plain": [
       "Getting the normalized co-occurence rate:   0%|          | 0/2833 [00:00<?, ?it/s]"
      ]
     },
     "metadata": {},
     "output_type": "display_data"
    },
    {
     "name": "stdout",
     "output_type": "stream",
     "text": [
      "Saved graphs/graph_5.pickle\n"
     ]
    },
    {
     "data": {
      "application/vnd.jupyter.widget-view+json": {
       "model_id": "960c50f895834dd0a1c9e6a5e5ed38ba",
       "version_major": 2,
       "version_minor": 0
      },
      "text/plain": [
       "Fetching team usage:   0%|          | 0/105 [00:00<?, ?it/s]"
      ]
     },
     "metadata": {},
     "output_type": "display_data"
    },
    {
     "data": {
      "application/vnd.jupyter.widget-view+json": {
       "model_id": "6d8fe62fc55c433ca3d83aea7b86afe9",
       "version_major": 2,
       "version_minor": 0
      },
      "text/plain": [
       "Getting the normalized co-occurence rate:   0%|          | 0/2889 [00:00<?, ?it/s]"
      ]
     },
     "metadata": {},
     "output_type": "display_data"
    },
    {
     "name": "stdout",
     "output_type": "stream",
     "text": [
      "Saved graphs/graph_4.pickle\n"
     ]
    },
    {
     "data": {
      "application/vnd.jupyter.widget-view+json": {
       "model_id": "651203c8977d4b0d93f4e455df53c274",
       "version_major": 2,
       "version_minor": 0
      },
      "text/plain": [
       "Fetching team usage:   0%|          | 0/105 [00:00<?, ?it/s]"
      ]
     },
     "metadata": {},
     "output_type": "display_data"
    },
    {
     "data": {
      "application/vnd.jupyter.widget-view+json": {
       "model_id": "dcae6c0144f14711a24d26509290f889",
       "version_major": 2,
       "version_minor": 0
      },
      "text/plain": [
       "Getting the normalized co-occurence rate:   0%|          | 0/2709 [00:00<?, ?it/s]"
      ]
     },
     "metadata": {},
     "output_type": "display_data"
    },
    {
     "name": "stdout",
     "output_type": "stream",
     "text": [
      "Saved graphs/graph_3.pickle\n"
     ]
    },
    {
     "data": {
      "application/vnd.jupyter.widget-view+json": {
       "model_id": "65fa94c75ab1498c96d1934f1ef03fa4",
       "version_major": 2,
       "version_minor": 0
      },
      "text/plain": [
       "Fetching team usage:   0%|          | 0/105 [00:00<?, ?it/s]"
      ]
     },
     "metadata": {},
     "output_type": "display_data"
    },
    {
     "data": {
      "application/vnd.jupyter.widget-view+json": {
       "model_id": "97f8d574a12a439e8627d55c67d414a9",
       "version_major": 2,
       "version_minor": 0
      },
      "text/plain": [
       "Getting the normalized co-occurence rate:   0%|          | 0/2411 [00:00<?, ?it/s]"
      ]
     },
     "metadata": {},
     "output_type": "display_data"
    },
    {
     "name": "stdout",
     "output_type": "stream",
     "text": [
      "Saved graphs/graph_2.pickle\n"
     ]
    },
    {
     "data": {
      "application/vnd.jupyter.widget-view+json": {
       "model_id": "2d7e8eb5d5734382a225cccc346b0cce",
       "version_major": 2,
       "version_minor": 0
      },
      "text/plain": [
       "Fetching team usage:   0%|          | 0/105 [00:00<?, ?it/s]"
      ]
     },
     "metadata": {},
     "output_type": "display_data"
    },
    {
     "data": {
      "application/vnd.jupyter.widget-view+json": {
       "model_id": "585731a82d5744f2ad0eef97770b56a8",
       "version_major": 2,
       "version_minor": 0
      },
      "text/plain": [
       "Getting the normalized co-occurence rate: 0it [00:00, ?it/s]"
      ]
     },
     "metadata": {},
     "output_type": "display_data"
    },
    {
     "name": "stdout",
     "output_type": "stream",
     "text": [
      "Saved graphs/graph_1.pickle\n"
     ]
    }
   ],
   "source": [
    "os.makedirs(\"graphs\", exist_ok=True)\n",
    "\n",
    "for i in range(7, 0, -1):\n",
    "    graph = create_graph(i)  # Call your function\n",
    "    filename = f\"graphs/graph_{i}.pickle\"  # File path\n",
    "    # Save the graph using pickle\n",
    "    with open(filename, 'wb') as f:\n",
    "        pickle.dump(graph, f)\n",
    "    print(f\"Saved {filename}\")"
   ]
  },
  {
   "cell_type": "code",
   "execution_count": null,
   "id": "86e11da9",
   "metadata": {},
   "outputs": [],
   "source": []
  }
 ],
 "metadata": {
  "kernelspec": {
   "display_name": "Python 3",
   "language": "python",
   "name": "python3"
  },
  "language_info": {
   "codemirror_mode": {
    "name": "ipython",
    "version": 3
   },
   "file_extension": ".py",
   "mimetype": "text/x-python",
   "name": "python",
   "nbconvert_exporter": "python",
   "pygments_lexer": "ipython3",
   "version": "3.11.5"
  }
 },
 "nbformat": 4,
 "nbformat_minor": 5
}
